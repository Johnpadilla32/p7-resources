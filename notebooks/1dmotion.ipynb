{
 "cells": [
  {
   "cell_type": "markdown",
   "metadata": {},
   "source": [
    "# One dimensional Motion"
   ]
  },
  {
   "cell_type": "markdown",
   "metadata": {},
   "source": [
    "Motion is a change in position of an object with respect to time. Motion is described in terms of displacement(x), time(t), velocity(v), and acceleration(a)."
   ]
  },
  {
   "cell_type": "markdown",
   "metadata": {
    "collapsed": true
   },
   "source": [
    "Displacement is defined to be the change in position of an object. Displacement can be described as the following:"
   ]
  },
  {
   "cell_type": "markdown",
   "metadata": {
    "collapsed": true
   },
   "source": [
    "$$ \\Delta x $$"
   ]
  },
  {
   "cell_type": "markdown",
   "metadata": {},
   "source": [
    "<img src=\"../img/Distance and Displacement.jpg\" width=450/>"
   ]
  },
  {
   "cell_type": "markdown",
   "metadata": {},
   "source": [
    "Velocity is the rate of change of displacement over time and the acceleration is the rate of change of velocity over time. They both can be described as the following:"
   ]
  },
  {
   "cell_type": "markdown",
   "metadata": {},
   "source": [
    "$$ \\vec v\\ and\\ a $$"
   ]
  },
  {
   "cell_type": "markdown",
   "metadata": {},
   "source": [
    "The average velocity and acceleration is also described as the following:"
   ]
  },
  {
   "cell_type": "markdown",
   "metadata": {},
   "source": [
    "$$ \\bar v= \\frac{\\Delta x}{\\Delta t}\\ and\\ \\bar a= \\frac{\\Delta v}{\\Delta t} $$"
   ]
  },
  {
   "cell_type": "markdown",
   "metadata": {},
   "source": [
    "Initial velocity of an object means the velocity at time t = 0. We know that velocity is the rate of change of displacement with time. Final velocity of a body is given as the velocity at time t. In a constant acceleration motion, the following equations can be used to solve an object's motion:"
   ]
  },
  {
   "cell_type": "markdown",
   "metadata": {},
   "source": [
    "$$ v_f= v_i + a\\Delta t $$ $$v_f^2= v_i^2 + 2a\\Delta x$$ $$ \\Delta x= \\frac{1}{2}(v_f+v_i)\\Delta t $$ $$ \\Delta x= v_i\\Delta t+ \\frac{1}{2}a\\Delta t^2 $$"
   ]
  },
  {
   "cell_type": "markdown",
   "metadata": {
    "collapsed": true
   },
   "source": [
    "### Sample problems"
   ]
  },
  {
   "cell_type": "markdown",
   "metadata": {},
   "source": [
    "2. An airplane accelerates down a runway at 3.20 m/s$^2$ for 32.8 s until is finally lifts off the ground. Determine the distance traveled before takeoff."
   ]
  },
  {
   "cell_type": "markdown",
   "metadata": {},
   "source": [
    "   Answer: $ \\Delta x\\approx$ 1720 m. By knowing the acceleration, time, intial velocity, and the constant acceleration motion equations, we can solve the question in a few easy steps. By using the formula $\\Delta x = v_i\\Delta t+ \\frac {1}{2}a\\Delta t^2 $, we can simply plug in the numbers to the variables. Since the intial velocity is equal to 0, the first part of the equation would also equal to 0. So now we are left off with $\\Delta x = \\frac {1}{2}a\\Delta t$"
   ]
  },
  {
   "cell_type": "markdown",
   "metadata": {},
   "source": [
    "2. A car starts from rest and accelerates uniformly over a time of 5.21 seconds for a distance of 110 m. Determine the acceleration of the car."
   ]
  },
  {
   "cell_type": "markdown",
   "metadata": {},
   "source": [
    "   Answer: $a $= 8.10 m/s$^2 $ Similar to the first question, now we have to solve for the acceleration. Since the car started at rest, our initial velocity will equal to 0. And since $v_i$= 0, the first part of the equation will equal to 0. Now by plugging in the numbers, you will get the answer."
   ]
  },
  {
   "cell_type": "markdown",
   "metadata": {},
   "source": [
    "### Reference"
   ]
  },
  {
   "cell_type": "markdown",
   "metadata": {},
   "source": [
    "                            Works Cited\n",
    "- - -. \"Final and Initial Velocity.\" Tutorvista.com. Ed. N.a. N.a, 2016. Web. 17 Apr. 2016. <http://www.tutorvista.com/physics/final-and-initial-velocity>.\n",
    "- - -. \"One-dimensional Motion.\" Khanacademy.org. Ed. N.a. n.a, n.a. Web. 17 Apr. 2016. <https://www.khanacademy.org/science/physics/one-dimensional-motion>.\n",
    "- - -. \"Sample Problems and Solutions.\" Physicsclassroom.com. Ed. N.a. N.a, 1996. Web. 17 Apr. 2016. <http://www.physicsclassroom.com/class/1DKin/Lesson-6/Sample-Problems-and-Solutions>.\n"
   ]
  },
  {
   "cell_type": "code",
   "execution_count": null,
   "metadata": {
    "collapsed": true
   },
   "outputs": [],
   "source": []
  }
 ],
 "metadata": {
  "kernelspec": {
   "display_name": "Python 3",
   "language": "python",
   "name": "python3"
  },
  "language_info": {
   "codemirror_mode": {
    "name": "ipython",
    "version": 3
   },
   "file_extension": ".py",
   "mimetype": "text/x-python",
   "name": "python",
   "nbconvert_exporter": "python",
   "pygments_lexer": "ipython3",
   "version": "3.4.4"
  }
 },
 "nbformat": 4,
 "nbformat_minor": 0
}
